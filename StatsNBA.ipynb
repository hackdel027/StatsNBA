{
 "cells": [
  {
   "cell_type": "code",
   "execution_count": 44,
   "id": "bb4c3d4e-ae35-45d4-8723-da860efeffdb",
   "metadata": {},
   "outputs": [],
   "source": [
    "import pandas as pd\n",
    "from bs4 import BeautifulSoup as BS\n",
    "import requests as rq\n",
    "from selenium import webdriver\n",
    "from webdriver_manager.chrome import ChromeDriverManager"
   ]
  },
  {
   "cell_type": "code",
   "execution_count": 45,
   "id": "1568e90c-c817-491b-9f5b-2a25f515f605",
   "metadata": {},
   "outputs": [
    {
     "name": "stderr",
     "output_type": "stream",
     "text": [
      "[WDM] - Downloading: 100%|████████████████▉| 6.83M/6.83M [02:08<00:00, 96.0kB/s]/tmp/ipykernel_2751/1503906442.py:1: DeprecationWarning: executable_path has been deprecated, please pass in a Service object\n",
      "  driver = webdriver.Chrome(ChromeDriverManager().install())\n",
      "[WDM] - Downloading: 100%|█████████████████| 6.83M/6.83M [02:20<00:00, 96.0kB/s]"
     ]
    }
   ],
   "source": [
    "driver = webdriver.Chrome(ChromeDriverManager().install())"
   ]
  },
  {
   "cell_type": "code",
   "execution_count": 146,
   "id": "c59db5e4-2e7d-405d-948a-43f11e690ae4",
   "metadata": {},
   "outputs": [],
   "source": [
    "url = \"https://www.nba.com/stats/players/traditional?PerMode=Totals&dir=A&sort=FT_PCT\"\n",
    "driver.get(url)"
   ]
  },
  {
   "cell_type": "code",
   "execution_count": 147,
   "id": "062db7fb-3f72-41ec-bf86-48bc21d3f526",
   "metadata": {},
   "outputs": [
    {
     "data": {
      "text/plain": [
       "bs4.BeautifulSoup"
      ]
     },
     "execution_count": 147,
     "metadata": {},
     "output_type": "execute_result"
    }
   ],
   "source": [
    "html = driver.page_source\n",
    "soup = BS(html, \"html.parser\")\n",
    "type(soup)"
   ]
  },
  {
   "cell_type": "code",
   "execution_count": 156,
   "id": "0adb5ae9-06b3-45b6-b140-9b4ac23bd98a",
   "metadata": {},
   "outputs": [],
   "source": [
    "t = []\n",
    "l = [\"Player\", \"Team\", \"Age\", \"Game_played\", \"Win\", \"Losses\", \"Minutes_played\", \"PTS\", \"FieldGoalMade\", \"FieldGoalAttempted\", \"FieldGoal%\", \n",
    "    \"3PointFieldMade\", \"3FieldGoalAttempted\", \"3FieldGoal%\", \"FreeThrowsMade\", \"FreeThrowsAttempted\", \"FreeThrow%\", \"OffensiveRebounds\",\n",
    "     \"DeffensiveRebounds\", \"Rebounds\", \"Assists\", \"Turnovers\", \"Steals\", \"Bloks\", \"PersonlFoul\", \"FantasyPoints\", \"DoubleDoubles\", \"TripleDoubles\", \"Plus-Minus\"]"
   ]
  },
  {
   "cell_type": "code",
   "execution_count": 158,
   "id": "3f05697e-17e1-4b6e-a7d3-cfb52fa6840e",
   "metadata": {},
   "outputs": [],
   "source": [
    "tr = soup.find_all('table')[2].find('tbody').find_all('tr')"
   ]
  },
  {
   "cell_type": "code",
   "execution_count": 159,
   "id": "9cbfa6d8-fef7-4b10-aba7-32db084bb842",
   "metadata": {},
   "outputs": [],
   "source": [
    "for i in tr:\n",
    "    index = 0\n",
    "    tb = []\n",
    "    for y in i.find_all('td')[1:]:\n",
    "        tb.append(y.text.strip())\n",
    "    table = {}\n",
    "    for plyr in tb:\n",
    "        table[l[index]] = plyr\n",
    "        index += 1\n",
    "    t.append(table)"
   ]
  },
  {
   "cell_type": "code",
   "execution_count": 160,
   "id": "214c58b1-9425-4667-803c-c5680dc232d8",
   "metadata": {},
   "outputs": [
    {
     "data": {
      "text/html": [
       "<div>\n",
       "<style scoped>\n",
       "    .dataframe tbody tr th:only-of-type {\n",
       "        vertical-align: middle;\n",
       "    }\n",
       "\n",
       "    .dataframe tbody tr th {\n",
       "        vertical-align: top;\n",
       "    }\n",
       "\n",
       "    .dataframe thead th {\n",
       "        text-align: right;\n",
       "    }\n",
       "</style>\n",
       "<table border=\"1\" class=\"dataframe\">\n",
       "  <thead>\n",
       "    <tr style=\"text-align: right;\">\n",
       "      <th></th>\n",
       "      <th>Player</th>\n",
       "      <th>Team</th>\n",
       "      <th>Age</th>\n",
       "      <th>Game_played</th>\n",
       "      <th>Win</th>\n",
       "      <th>Losses</th>\n",
       "      <th>Minutes_played</th>\n",
       "      <th>PTS</th>\n",
       "      <th>FieldGoalMade</th>\n",
       "      <th>FieldGoalAttempted</th>\n",
       "      <th>...</th>\n",
       "      <th>Rebounds</th>\n",
       "      <th>Assists</th>\n",
       "      <th>Turnovers</th>\n",
       "      <th>Steals</th>\n",
       "      <th>Bloks</th>\n",
       "      <th>PersonlFoul</th>\n",
       "      <th>FantasyPoints</th>\n",
       "      <th>DoubleDoubles</th>\n",
       "      <th>TripleDoubles</th>\n",
       "      <th>Plus-Minus</th>\n",
       "    </tr>\n",
       "  </thead>\n",
       "  <tbody>\n",
       "    <tr>\n",
       "      <th>count</th>\n",
       "      <td>50</td>\n",
       "      <td>50</td>\n",
       "      <td>50</td>\n",
       "      <td>50</td>\n",
       "      <td>50</td>\n",
       "      <td>50</td>\n",
       "      <td>50</td>\n",
       "      <td>50</td>\n",
       "      <td>50</td>\n",
       "      <td>50</td>\n",
       "      <td>...</td>\n",
       "      <td>50</td>\n",
       "      <td>50</td>\n",
       "      <td>50</td>\n",
       "      <td>50</td>\n",
       "      <td>50</td>\n",
       "      <td>50</td>\n",
       "      <td>50</td>\n",
       "      <td>50</td>\n",
       "      <td>50</td>\n",
       "      <td>50</td>\n",
       "    </tr>\n",
       "    <tr>\n",
       "      <th>unique</th>\n",
       "      <td>50</td>\n",
       "      <td>16</td>\n",
       "      <td>16</td>\n",
       "      <td>16</td>\n",
       "      <td>14</td>\n",
       "      <td>10</td>\n",
       "      <td>50</td>\n",
       "      <td>45</td>\n",
       "      <td>38</td>\n",
       "      <td>42</td>\n",
       "      <td>...</td>\n",
       "      <td>37</td>\n",
       "      <td>30</td>\n",
       "      <td>24</td>\n",
       "      <td>19</td>\n",
       "      <td>12</td>\n",
       "      <td>30</td>\n",
       "      <td>46</td>\n",
       "      <td>5</td>\n",
       "      <td>2</td>\n",
       "      <td>40</td>\n",
       "    </tr>\n",
       "    <tr>\n",
       "      <th>top</th>\n",
       "      <td>Bobby Portis</td>\n",
       "      <td>PHI</td>\n",
       "      <td>26</td>\n",
       "      <td>5</td>\n",
       "      <td>1</td>\n",
       "      <td>4</td>\n",
       "      <td>107.3</td>\n",
       "      <td>20</td>\n",
       "      <td>10</td>\n",
       "      <td>29</td>\n",
       "      <td>...</td>\n",
       "      <td>17</td>\n",
       "      <td>0</td>\n",
       "      <td>1</td>\n",
       "      <td>0</td>\n",
       "      <td>0</td>\n",
       "      <td>15</td>\n",
       "      <td>54</td>\n",
       "      <td>0</td>\n",
       "      <td>0</td>\n",
       "      <td>3</td>\n",
       "    </tr>\n",
       "    <tr>\n",
       "      <th>freq</th>\n",
       "      <td>1</td>\n",
       "      <td>7</td>\n",
       "      <td>9</td>\n",
       "      <td>7</td>\n",
       "      <td>11</td>\n",
       "      <td>22</td>\n",
       "      <td>1</td>\n",
       "      <td>2</td>\n",
       "      <td>4</td>\n",
       "      <td>4</td>\n",
       "      <td>...</td>\n",
       "      <td>3</td>\n",
       "      <td>6</td>\n",
       "      <td>8</td>\n",
       "      <td>9</td>\n",
       "      <td>17</td>\n",
       "      <td>5</td>\n",
       "      <td>2</td>\n",
       "      <td>37</td>\n",
       "      <td>49</td>\n",
       "      <td>4</td>\n",
       "    </tr>\n",
       "  </tbody>\n",
       "</table>\n",
       "<p>4 rows × 29 columns</p>\n",
       "</div>"
      ],
      "text/plain": [
       "              Player Team Age Game_played Win Losses Minutes_played PTS  \\\n",
       "count             50   50  50          50  50     50             50  50   \n",
       "unique            50   16  16          16  14     10             50  45   \n",
       "top     Bobby Portis  PHI  26           5   1      4          107.3  20   \n",
       "freq               1    7   9           7  11     22              1   2   \n",
       "\n",
       "       FieldGoalMade FieldGoalAttempted  ... Rebounds Assists Turnovers  \\\n",
       "count             50                 50  ...       50      50        50   \n",
       "unique            38                 42  ...       37      30        24   \n",
       "top               10                 29  ...       17       0         1   \n",
       "freq               4                  4  ...        3       6         8   \n",
       "\n",
       "       Steals Bloks PersonlFoul FantasyPoints DoubleDoubles TripleDoubles  \\\n",
       "count      50    50          50            50            50            50   \n",
       "unique     19    12          30            46             5             2   \n",
       "top         0     0          15            54             0             0   \n",
       "freq        9    17           5             2            37            49   \n",
       "\n",
       "       Plus-Minus  \n",
       "count          50  \n",
       "unique         40  \n",
       "top             3  \n",
       "freq            4  \n",
       "\n",
       "[4 rows x 29 columns]"
      ]
     },
     "execution_count": 160,
     "metadata": {},
     "output_type": "execute_result"
    }
   ],
   "source": [
    "df = pd.DataFrame(t)\n",
    "df.describe()"
   ]
  },
  {
   "cell_type": "code",
   "execution_count": 129,
   "id": "47474af8-f52c-4ebb-acfc-be10ccb4a171",
   "metadata": {},
   "outputs": [],
   "source": [
    "df.to_csv(\"RegularSession.csv\", index=False)"
   ]
  },
  {
   "cell_type": "code",
   "execution_count": null,
   "id": "8a67857b-5b82-476c-81bb-da9d81531485",
   "metadata": {},
   "outputs": [],
   "source": []
  }
 ],
 "metadata": {
  "kernelspec": {
   "display_name": "Python 3 (ipykernel)",
   "language": "python",
   "name": "python3"
  },
  "language_info": {
   "codemirror_mode": {
    "name": "ipython",
    "version": 3
   },
   "file_extension": ".py",
   "mimetype": "text/x-python",
   "name": "python",
   "nbconvert_exporter": "python",
   "pygments_lexer": "ipython3",
   "version": "3.9.2"
  }
 },
 "nbformat": 4,
 "nbformat_minor": 5
}
